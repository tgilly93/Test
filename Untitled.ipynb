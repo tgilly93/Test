{
 "cells": [
  {
   "cell_type": "code",
   "execution_count": 1,
   "id": "ef6bb0a7-6b1d-4258-b667-5fbd15f452fc",
   "metadata": {},
   "outputs": [
    {
     "name": "stdout",
     "output_type": "stream",
     "text": [
      "4\n"
     ]
    }
   ],
   "source": [
    "n = 2\n",
    "print(n*2)"
   ]
  },
  {
   "cell_type": "code",
   "execution_count": 1,
   "id": "9567a3fd-72ac-40bd-b811-3cf6d68dd41f",
   "metadata": {},
   "outputs": [],
   "source": [
    "import pandas as pd\n"
   ]
  },
  {
   "cell_type": "code",
   "execution_count": 2,
   "id": "8ae5fa7d",
   "metadata": {},
   "outputs": [
    {
     "name": "stdout",
     "output_type": "stream",
     "text": [
      "            ride_id rideable_type           started_at             ended_at  \\\n",
      "0  02668AD35674B983   docked_bike  2020-05-27 10:03:52  2020-05-27 10:16:49   \n",
      "1  7A50CCAF1EDDB28F   docked_bike  2020-05-25 10:47:11  2020-05-25 11:05:40   \n",
      "2  2FFCDFDB91FE9A52   docked_bike  2020-05-02 14:11:03  2020-05-02 15:48:21   \n",
      "3  58991CF1DB75BA84   docked_bike  2020-05-02 16:25:36  2020-05-02 16:39:28   \n",
      "4  A79651EFECC268CD   docked_bike  2020-05-29 12:49:54  2020-05-29 13:27:11   \n",
      "\n",
      "           start_station_name  start_station_id  \\\n",
      "0  Franklin St & Jackson Blvd                36   \n",
      "1   Clark St & Wrightwood Ave               340   \n",
      "2  Kedzie Ave & Milwaukee Ave               260   \n",
      "3  Clarendon Ave & Leland Ave               251   \n",
      "4     Hermitage Ave & Polk St               261   \n",
      "\n",
      "                 end_station_name  end_station_id  start_lat  start_lng  \\\n",
      "0          Wabash Ave & Grand Ave           199.0    41.8777   -87.6353   \n",
      "1           Clark St & Leland Ave           326.0    41.9295   -87.6431   \n",
      "2      Kedzie Ave & Milwaukee Ave           260.0    41.9296   -87.7079   \n",
      "3  Lake Shore Dr & Wellington Ave           157.0    41.9680   -87.6500   \n",
      "4         Halsted St & Archer Ave           206.0    41.8715   -87.6699   \n",
      "\n",
      "   end_lat  end_lng member_casual  \n",
      "0  41.8915 -87.6268        member  \n",
      "1  41.9671 -87.6674        casual  \n",
      "2  41.9296 -87.7079        casual  \n",
      "3  41.9367 -87.6368        casual  \n",
      "4  41.8472 -87.6468        member  \n"
     ]
    }
   ],
   "source": [
    "df = pd.read_csv('/Users/terrygilmore/Downloads/202005-divvy-tripdata.csv')\n",
    "print(df.head())"
   ]
  },
  {
   "cell_type": "code",
   "execution_count": 3,
   "id": "1b7f7347",
   "metadata": {},
   "outputs": [
    {
     "ename": "SyntaxError",
     "evalue": "invalid syntax. Perhaps you forgot a comma? (3998699560.py, line 1)",
     "output_type": "error",
     "traceback": [
      "\u001b[0;36m  Input \u001b[0;32mIn [3]\u001b[0;36m\u001b[0m\n\u001b[0;31m    df.to_csv('clean_csv.csv' columns = ['start_station_name', 'member_casual'])\u001b[0m\n\u001b[0m              ^\u001b[0m\n\u001b[0;31mSyntaxError\u001b[0m\u001b[0;31m:\u001b[0m invalid syntax. Perhaps you forgot a comma?\n"
     ]
    }
   ],
   "source": [
    "df.to_csv('clean_csv.csv' columns = ['start_station_name', 'member_casual'])"
   ]
  },
  {
   "cell_type": "code",
   "execution_count": 4,
   "id": "f70e3be5",
   "metadata": {},
   "outputs": [],
   "source": [
    "df.to_csv('clean_csv.csv', columns = ['start_station_name', 'member_casual'])"
   ]
  },
  {
   "cell_type": "code",
   "execution_count": 5,
   "id": "e8d30b24",
   "metadata": {},
   "outputs": [],
   "source": [
    "#added new code to test out vscode enironment. success"
   ]
  },
  {
   "cell_type": "code",
   "execution_count": 6,
   "id": "278a41ba",
   "metadata": {},
   "outputs": [],
   "source": [
    "import matplotlib.pyplot as plt"
   ]
  },
  {
   "cell_type": "code",
   "execution_count": 7,
   "id": "05d0b419",
   "metadata": {},
   "outputs": [
    {
     "ename": "ModuleNotFoundError",
     "evalue": "No module named 'seaborn'",
     "output_type": "error",
     "traceback": [
      "\u001b[0;31m---------------------------------------------------------------------------\u001b[0m",
      "\u001b[0;31mModuleNotFoundError\u001b[0m                       Traceback (most recent call last)",
      "\u001b[1;32m/Users/terrygilmore/Desktop/Test/Untitled.ipynb Cell 8\u001b[0m in \u001b[0;36m<cell line: 1>\u001b[0;34m()\u001b[0m\n\u001b[0;32m----> <a href='vscode-notebook-cell:/Users/terrygilmore/Desktop/Test/Untitled.ipynb#ch0000008?line=0'>1</a>\u001b[0m \u001b[39mimport\u001b[39;00m \u001b[39mseaborn\u001b[39;00m \u001b[39mas\u001b[39;00m \u001b[39msns\u001b[39;00m\n",
      "\u001b[0;31mModuleNotFoundError\u001b[0m: No module named 'seaborn'"
     ]
    }
   ],
   "source": [
    "import seaborn as sns"
   ]
  },
  {
   "cell_type": "code",
   "execution_count": 1,
   "id": "9d1002b7",
   "metadata": {},
   "outputs": [],
   "source": [
    "import seaborn as sns\n"
   ]
  },
  {
   "cell_type": "code",
   "execution_count": null,
   "id": "67db1cda",
   "metadata": {},
   "outputs": [],
   "source": [
    "import numpy as np"
   ]
  },
  {
   "cell_type": "code",
   "execution_count": 1,
   "id": "b5bce4ea",
   "metadata": {},
   "outputs": [],
   "source": [
    "import pandas as pd\n",
    "from functools import reduce\n",
    "\n"
   ]
  },
  {
   "cell_type": "code",
   "execution_count": 3,
   "id": "0b95a3e8",
   "metadata": {},
   "outputs": [],
   "source": [
    "dfs = ['clean_csv.csv', 'sample_csv.csv']\n",
    "\n"
   ]
  },
  {
   "cell_type": "code",
   "execution_count": 4,
   "id": "e3fe6acc",
   "metadata": {},
   "outputs": [
    {
     "name": "stderr",
     "output_type": "stream",
     "text": [
      "/var/folders/53/dpbddzdx40ld_nw2zwjgq7dc0000gq/T/ipykernel_33485/76331287.py:2: DtypeWarning: Columns (10) have mixed types. Specify dtype option on import or set low_memory=False.\n",
      "  df4 = pd.read_csv('/Users/terrygilmore/Desktop/Divvy_DB/Divvy_Stations_Trips_2013/Divvy_Trips_2013.csv')\n"
     ]
    }
   ],
   "source": [
    "df3 = pd.read_csv('/Users/terrygilmore/Desktop/Divvy_DB/Divvy_Stations_Trips_2013/Divvy_Stations_2013.csv')\n",
    "df4 = pd.read_csv('/Users/terrygilmore/Desktop/Divvy_DB/Divvy_Stations_Trips_2013/Divvy_Trips_2013.csv')\n",
    "\n"
   ]
  },
  {
   "cell_type": "code",
   "execution_count": 5,
   "id": "6275c00e",
   "metadata": {},
   "outputs": [
    {
     "name": "stderr",
     "output_type": "stream",
     "text": [
      "/var/folders/53/dpbddzdx40ld_nw2zwjgq7dc0000gq/T/ipykernel_33485/1793548736.py:1: DtypeWarning: Columns (10) have mixed types. Specify dtype option on import or set low_memory=False.\n",
      "  df4 = pd.read_csv('/Users/terrygilmore/Desktop/Divvy_DB/Divvy_Stations_Trips_2013/Divvy_Trips_2013.csv')\n"
     ]
    }
   ],
   "source": [
    "df4 = pd.read_csv('/Users/terrygilmore/Desktop/Divvy_DB/Divvy_Stations_Trips_2013/Divvy_Trips_2013.csv')\n",
    "\n"
   ]
  },
  {
   "cell_type": "code",
   "execution_count": 6,
   "id": "ef5c494e",
   "metadata": {},
   "outputs": [
    {
     "ename": "TypeError",
     "evalue": "data type 'infer_datetime_format' not understood",
     "output_type": "error",
     "traceback": [
      "\u001b[0;31m---------------------------------------------------------------------------\u001b[0m",
      "\u001b[0;31mTypeError\u001b[0m                                 Traceback (most recent call last)",
      "\u001b[1;32m/Users/terrygilmore/Desktop/Test/Untitled.ipynb Cell 15\u001b[0m in \u001b[0;36m<cell line: 1>\u001b[0;34m()\u001b[0m\n\u001b[0;32m----> <a href='vscode-notebook-cell:/Users/terrygilmore/Desktop/Test/Untitled.ipynb#ch0000015?line=0'>1</a>\u001b[0m df4 \u001b[39m=\u001b[39m pd\u001b[39m.\u001b[39;49mread_csv(\u001b[39m'\u001b[39;49m\u001b[39m/Users/terrygilmore/Desktop/Divvy_DB/Divvy_Stations_Trips_2013/Divvy_Trips_2013.csv\u001b[39;49m\u001b[39m'\u001b[39;49m, dtype\u001b[39m=\u001b[39;49m{\u001b[39m'\u001b[39;49m\u001b[39mtrip_id\u001b[39;49m\u001b[39m'\u001b[39;49m : \u001b[39m'\u001b[39;49m\u001b[39mint\u001b[39;49m\u001b[39m'\u001b[39;49m, \u001b[39m'\u001b[39;49m\u001b[39mstarttime\u001b[39;49m\u001b[39m'\u001b[39;49m : \u001b[39m'\u001b[39;49m\u001b[39minfer_datetime_format\u001b[39;49m\u001b[39m'\u001b[39;49m, \u001b[39m'\u001b[39;49m\u001b[39mstoptime\u001b[39;49m\u001b[39m'\u001b[39;49m : \u001b[39m'\u001b[39;49m\u001b[39minfer_datetime_format\u001b[39;49m\u001b[39m'\u001b[39;49m, \u001b[39m'\u001b[39;49m\u001b[39mbikeid\u001b[39;49m\u001b[39m'\u001b[39;49m : \u001b[39m'\u001b[39;49m\u001b[39mint\u001b[39;49m\u001b[39m'\u001b[39;49m, \u001b[39m'\u001b[39;49m\u001b[39mtripduration\u001b[39;49m\u001b[39m'\u001b[39;49m : \u001b[39m'\u001b[39;49m\u001b[39mint\u001b[39;49m\u001b[39m'\u001b[39;49m, \u001b[39m'\u001b[39;49m\u001b[39mfrom_station_id\u001b[39;49m\u001b[39m'\u001b[39;49m : \u001b[39m'\u001b[39;49m\u001b[39mint\u001b[39;49m\u001b[39m'\u001b[39;49m, \u001b[39m'\u001b[39;49m\u001b[39mfrom_station_name\u001b[39;49m\u001b[39m'\u001b[39;49m : \u001b[39m'\u001b[39;49m\u001b[39mstr\u001b[39;49m\u001b[39m'\u001b[39;49m, \u001b[39m'\u001b[39;49m\u001b[39mto_station_id\u001b[39;49m\u001b[39m'\u001b[39;49m : \u001b[39m'\u001b[39;49m\u001b[39mint\u001b[39;49m\u001b[39m'\u001b[39;49m, \u001b[39m'\u001b[39;49m\u001b[39mto_station_name\u001b[39;49m\u001b[39m'\u001b[39;49m : \u001b[39m'\u001b[39;49m\u001b[39mstr\u001b[39;49m\u001b[39m'\u001b[39;49m})\n",
      "File \u001b[0;32m/Library/Frameworks/Python.framework/Versions/3.10/lib/python3.10/site-packages/pandas/util/_decorators.py:311\u001b[0m, in \u001b[0;36mdeprecate_nonkeyword_arguments.<locals>.decorate.<locals>.wrapper\u001b[0;34m(*args, **kwargs)\u001b[0m\n\u001b[1;32m    305\u001b[0m \u001b[39mif\u001b[39;00m \u001b[39mlen\u001b[39m(args) \u001b[39m>\u001b[39m num_allow_args:\n\u001b[1;32m    306\u001b[0m     warnings\u001b[39m.\u001b[39mwarn(\n\u001b[1;32m    307\u001b[0m         msg\u001b[39m.\u001b[39mformat(arguments\u001b[39m=\u001b[39marguments),\n\u001b[1;32m    308\u001b[0m         \u001b[39mFutureWarning\u001b[39;00m,\n\u001b[1;32m    309\u001b[0m         stacklevel\u001b[39m=\u001b[39mstacklevel,\n\u001b[1;32m    310\u001b[0m     )\n\u001b[0;32m--> 311\u001b[0m \u001b[39mreturn\u001b[39;00m func(\u001b[39m*\u001b[39;49margs, \u001b[39m*\u001b[39;49m\u001b[39m*\u001b[39;49mkwargs)\n",
      "File \u001b[0;32m/Library/Frameworks/Python.framework/Versions/3.10/lib/python3.10/site-packages/pandas/io/parsers/readers.py:680\u001b[0m, in \u001b[0;36mread_csv\u001b[0;34m(filepath_or_buffer, sep, delimiter, header, names, index_col, usecols, squeeze, prefix, mangle_dupe_cols, dtype, engine, converters, true_values, false_values, skipinitialspace, skiprows, skipfooter, nrows, na_values, keep_default_na, na_filter, verbose, skip_blank_lines, parse_dates, infer_datetime_format, keep_date_col, date_parser, dayfirst, cache_dates, iterator, chunksize, compression, thousands, decimal, lineterminator, quotechar, quoting, doublequote, escapechar, comment, encoding, encoding_errors, dialect, error_bad_lines, warn_bad_lines, on_bad_lines, delim_whitespace, low_memory, memory_map, float_precision, storage_options)\u001b[0m\n\u001b[1;32m    665\u001b[0m kwds_defaults \u001b[39m=\u001b[39m _refine_defaults_read(\n\u001b[1;32m    666\u001b[0m     dialect,\n\u001b[1;32m    667\u001b[0m     delimiter,\n\u001b[0;32m   (...)\u001b[0m\n\u001b[1;32m    676\u001b[0m     defaults\u001b[39m=\u001b[39m{\u001b[39m\"\u001b[39m\u001b[39mdelimiter\u001b[39m\u001b[39m\"\u001b[39m: \u001b[39m\"\u001b[39m\u001b[39m,\u001b[39m\u001b[39m\"\u001b[39m},\n\u001b[1;32m    677\u001b[0m )\n\u001b[1;32m    678\u001b[0m kwds\u001b[39m.\u001b[39mupdate(kwds_defaults)\n\u001b[0;32m--> 680\u001b[0m \u001b[39mreturn\u001b[39;00m _read(filepath_or_buffer, kwds)\n",
      "File \u001b[0;32m/Library/Frameworks/Python.framework/Versions/3.10/lib/python3.10/site-packages/pandas/io/parsers/readers.py:575\u001b[0m, in \u001b[0;36m_read\u001b[0;34m(filepath_or_buffer, kwds)\u001b[0m\n\u001b[1;32m    572\u001b[0m _validate_names(kwds\u001b[39m.\u001b[39mget(\u001b[39m\"\u001b[39m\u001b[39mnames\u001b[39m\u001b[39m\"\u001b[39m, \u001b[39mNone\u001b[39;00m))\n\u001b[1;32m    574\u001b[0m \u001b[39m# Create the parser.\u001b[39;00m\n\u001b[0;32m--> 575\u001b[0m parser \u001b[39m=\u001b[39m TextFileReader(filepath_or_buffer, \u001b[39m*\u001b[39;49m\u001b[39m*\u001b[39;49mkwds)\n\u001b[1;32m    577\u001b[0m \u001b[39mif\u001b[39;00m chunksize \u001b[39mor\u001b[39;00m iterator:\n\u001b[1;32m    578\u001b[0m     \u001b[39mreturn\u001b[39;00m parser\n",
      "File \u001b[0;32m/Library/Frameworks/Python.framework/Versions/3.10/lib/python3.10/site-packages/pandas/io/parsers/readers.py:934\u001b[0m, in \u001b[0;36mTextFileReader.__init__\u001b[0;34m(self, f, engine, **kwds)\u001b[0m\n\u001b[1;32m    931\u001b[0m     \u001b[39mself\u001b[39m\u001b[39m.\u001b[39moptions[\u001b[39m\"\u001b[39m\u001b[39mhas_index_names\u001b[39m\u001b[39m\"\u001b[39m] \u001b[39m=\u001b[39m kwds[\u001b[39m\"\u001b[39m\u001b[39mhas_index_names\u001b[39m\u001b[39m\"\u001b[39m]\n\u001b[1;32m    933\u001b[0m \u001b[39mself\u001b[39m\u001b[39m.\u001b[39mhandles: IOHandles \u001b[39m|\u001b[39m \u001b[39mNone\u001b[39;00m \u001b[39m=\u001b[39m \u001b[39mNone\u001b[39;00m\n\u001b[0;32m--> 934\u001b[0m \u001b[39mself\u001b[39m\u001b[39m.\u001b[39m_engine \u001b[39m=\u001b[39m \u001b[39mself\u001b[39;49m\u001b[39m.\u001b[39;49m_make_engine(f, \u001b[39mself\u001b[39;49m\u001b[39m.\u001b[39;49mengine)\n",
      "File \u001b[0;32m/Library/Frameworks/Python.framework/Versions/3.10/lib/python3.10/site-packages/pandas/io/parsers/readers.py:1236\u001b[0m, in \u001b[0;36mTextFileReader._make_engine\u001b[0;34m(self, f, engine)\u001b[0m\n\u001b[1;32m   1233\u001b[0m     \u001b[39mraise\u001b[39;00m \u001b[39mValueError\u001b[39;00m(msg)\n\u001b[1;32m   1235\u001b[0m \u001b[39mtry\u001b[39;00m:\n\u001b[0;32m-> 1236\u001b[0m     \u001b[39mreturn\u001b[39;00m mapping[engine](f, \u001b[39m*\u001b[39;49m\u001b[39m*\u001b[39;49m\u001b[39mself\u001b[39;49m\u001b[39m.\u001b[39;49moptions)\n\u001b[1;32m   1237\u001b[0m \u001b[39mexcept\u001b[39;00m \u001b[39mException\u001b[39;00m:\n\u001b[1;32m   1238\u001b[0m     \u001b[39mif\u001b[39;00m \u001b[39mself\u001b[39m\u001b[39m.\u001b[39mhandles \u001b[39mis\u001b[39;00m \u001b[39mnot\u001b[39;00m \u001b[39mNone\u001b[39;00m:\n",
      "File \u001b[0;32m/Library/Frameworks/Python.framework/Versions/3.10/lib/python3.10/site-packages/pandas/io/parsers/c_parser_wrapper.py:74\u001b[0m, in \u001b[0;36mCParserWrapper.__init__\u001b[0;34m(self, src, **kwds)\u001b[0m\n\u001b[1;32m     64\u001b[0m \u001b[39mfor\u001b[39;00m key \u001b[39min\u001b[39;00m (\n\u001b[1;32m     65\u001b[0m     \u001b[39m\"\u001b[39m\u001b[39mstorage_options\u001b[39m\u001b[39m\"\u001b[39m,\n\u001b[1;32m     66\u001b[0m     \u001b[39m\"\u001b[39m\u001b[39mencoding\u001b[39m\u001b[39m\"\u001b[39m,\n\u001b[0;32m   (...)\u001b[0m\n\u001b[1;32m     70\u001b[0m     \u001b[39m\"\u001b[39m\u001b[39mwarn_bad_lines\u001b[39m\u001b[39m\"\u001b[39m,\n\u001b[1;32m     71\u001b[0m ):\n\u001b[1;32m     72\u001b[0m     kwds\u001b[39m.\u001b[39mpop(key, \u001b[39mNone\u001b[39;00m)\n\u001b[0;32m---> 74\u001b[0m kwds[\u001b[39m\"\u001b[39m\u001b[39mdtype\u001b[39m\u001b[39m\"\u001b[39m] \u001b[39m=\u001b[39m ensure_dtype_objs(kwds\u001b[39m.\u001b[39;49mget(\u001b[39m\"\u001b[39;49m\u001b[39mdtype\u001b[39;49m\u001b[39m\"\u001b[39;49m, \u001b[39mNone\u001b[39;49;00m))\n\u001b[1;32m     75\u001b[0m \u001b[39mself\u001b[39m\u001b[39m.\u001b[39m_reader \u001b[39m=\u001b[39m parsers\u001b[39m.\u001b[39mTextReader(src, \u001b[39m*\u001b[39m\u001b[39m*\u001b[39mkwds)\n\u001b[1;32m     77\u001b[0m \u001b[39mself\u001b[39m\u001b[39m.\u001b[39munnamed_cols \u001b[39m=\u001b[39m \u001b[39mself\u001b[39m\u001b[39m.\u001b[39m_reader\u001b[39m.\u001b[39munnamed_cols\n",
      "File \u001b[0;32m/Library/Frameworks/Python.framework/Versions/3.10/lib/python3.10/site-packages/pandas/io/parsers/c_parser_wrapper.py:416\u001b[0m, in \u001b[0;36mensure_dtype_objs\u001b[0;34m(dtype)\u001b[0m\n\u001b[1;32m    411\u001b[0m \u001b[39m\"\"\"\u001b[39;00m\n\u001b[1;32m    412\u001b[0m \u001b[39mEnsure we have either None, a dtype object, or a dictionary mapping to\u001b[39;00m\n\u001b[1;32m    413\u001b[0m \u001b[39mdtype objects.\u001b[39;00m\n\u001b[1;32m    414\u001b[0m \u001b[39m\"\"\"\u001b[39;00m\n\u001b[1;32m    415\u001b[0m \u001b[39mif\u001b[39;00m \u001b[39misinstance\u001b[39m(dtype, \u001b[39mdict\u001b[39m):\n\u001b[0;32m--> 416\u001b[0m     \u001b[39mreturn\u001b[39;00m {k: pandas_dtype(dtype[k]) \u001b[39mfor\u001b[39;00m k \u001b[39min\u001b[39;00m dtype}\n\u001b[1;32m    417\u001b[0m \u001b[39melif\u001b[39;00m dtype \u001b[39mis\u001b[39;00m \u001b[39mnot\u001b[39;00m \u001b[39mNone\u001b[39;00m:\n\u001b[1;32m    418\u001b[0m     \u001b[39mreturn\u001b[39;00m pandas_dtype(dtype)\n",
      "File \u001b[0;32m/Library/Frameworks/Python.framework/Versions/3.10/lib/python3.10/site-packages/pandas/io/parsers/c_parser_wrapper.py:416\u001b[0m, in \u001b[0;36m<dictcomp>\u001b[0;34m(.0)\u001b[0m\n\u001b[1;32m    411\u001b[0m \u001b[39m\"\"\"\u001b[39;00m\n\u001b[1;32m    412\u001b[0m \u001b[39mEnsure we have either None, a dtype object, or a dictionary mapping to\u001b[39;00m\n\u001b[1;32m    413\u001b[0m \u001b[39mdtype objects.\u001b[39;00m\n\u001b[1;32m    414\u001b[0m \u001b[39m\"\"\"\u001b[39;00m\n\u001b[1;32m    415\u001b[0m \u001b[39mif\u001b[39;00m \u001b[39misinstance\u001b[39m(dtype, \u001b[39mdict\u001b[39m):\n\u001b[0;32m--> 416\u001b[0m     \u001b[39mreturn\u001b[39;00m {k: pandas_dtype(dtype[k]) \u001b[39mfor\u001b[39;00m k \u001b[39min\u001b[39;00m dtype}\n\u001b[1;32m    417\u001b[0m \u001b[39melif\u001b[39;00m dtype \u001b[39mis\u001b[39;00m \u001b[39mnot\u001b[39;00m \u001b[39mNone\u001b[39;00m:\n\u001b[1;32m    418\u001b[0m     \u001b[39mreturn\u001b[39;00m pandas_dtype(dtype)\n",
      "File \u001b[0;32m/Library/Frameworks/Python.framework/Versions/3.10/lib/python3.10/site-packages/pandas/core/dtypes/common.py:1777\u001b[0m, in \u001b[0;36mpandas_dtype\u001b[0;34m(dtype)\u001b[0m\n\u001b[1;32m   1774\u001b[0m \u001b[39m# try a numpy dtype\u001b[39;00m\n\u001b[1;32m   1775\u001b[0m \u001b[39m# raise a consistent TypeError if failed\u001b[39;00m\n\u001b[1;32m   1776\u001b[0m \u001b[39mtry\u001b[39;00m:\n\u001b[0;32m-> 1777\u001b[0m     npdtype \u001b[39m=\u001b[39m np\u001b[39m.\u001b[39;49mdtype(dtype)\n\u001b[1;32m   1778\u001b[0m \u001b[39mexcept\u001b[39;00m \u001b[39mSyntaxError\u001b[39;00m \u001b[39mas\u001b[39;00m err:\n\u001b[1;32m   1779\u001b[0m     \u001b[39m# np.dtype uses `eval` which can raise SyntaxError\u001b[39;00m\n\u001b[1;32m   1780\u001b[0m     \u001b[39mraise\u001b[39;00m \u001b[39mTypeError\u001b[39;00m(\u001b[39mf\u001b[39m\u001b[39m\"\u001b[39m\u001b[39mdata type \u001b[39m\u001b[39m'\u001b[39m\u001b[39m{\u001b[39;00mdtype\u001b[39m}\u001b[39;00m\u001b[39m'\u001b[39m\u001b[39m not understood\u001b[39m\u001b[39m\"\u001b[39m) \u001b[39mfrom\u001b[39;00m \u001b[39merr\u001b[39;00m\n",
      "\u001b[0;31mTypeError\u001b[0m: data type 'infer_datetime_format' not understood"
     ]
    }
   ],
   "source": [
    "df4 = pd.read_csv('/Users/terrygilmore/Desktop/Divvy_DB/Divvy_Stations_Trips_2013/Divvy_Trips_2013.csv', dtype={'trip_id' : 'int', 'starttime' : 'infer_datetime_format', 'stoptime' : 'infer_datetime_format', 'bikeid' : 'int', 'tripduration' : 'int', 'from_station_id' : 'int', 'from_station_name' : 'str', 'to_station_id' : 'int', 'to_station_name' : 'str'})\n",
    "\n"
   ]
  },
  {
   "cell_type": "code",
   "execution_count": 7,
   "id": "7d5329f3",
   "metadata": {},
   "outputs": [],
   "source": [
    "df4 = pd.read_csv('/Users/terrygilmore/Desktop/Divvy_DB/Divvy_Stations_Trips_2013/Divvy_Trips_2013.csv', low_memory=False)\n",
    "\n"
   ]
  },
  {
   "cell_type": "code",
   "execution_count": 8,
   "id": "477c6fee",
   "metadata": {},
   "outputs": [],
   "source": [
    "df3 = pd.read_csv('/Users/terrygilmore/Desktop/Divvy_DB/Divvy_Stations_Trips_2013/Divvy_Stations_2013.csv')"
   ]
  },
  {
   "cell_type": "code",
   "execution_count": 9,
   "id": "9731c1f0",
   "metadata": {},
   "outputs": [
    {
     "name": "stdout",
     "output_type": "stream",
     "text": [
      "   id                        name   latitude  longitude  dpcapacity  landmark  \\\n",
      "0   5      State St & Harrison St  41.873958 -87.627739          19        30   \n",
      "1  13  Wilton Ave & Diversey Pkwy  41.932500 -87.652681          19        66   \n",
      "2  14         Morgan St & 18th St  41.858086 -87.651073          15       163   \n",
      "3  15        Racine Ave & 18th St  41.858181 -87.656487          15       164   \n",
      "4  16         Wood St & North Ave  41.910329 -87.672516          15       223   \n",
      "\n",
      "  online date  \n",
      "0   6/28/2013  \n",
      "1   6/28/2013  \n",
      "2   6/28/2013  \n",
      "3   6/28/2013  \n",
      "4   8/12/2013  \n"
     ]
    }
   ],
   "source": [
    "print(df3.head())"
   ]
  },
  {
   "cell_type": "code",
   "execution_count": 10,
   "id": "7cbb2d84",
   "metadata": {},
   "outputs": [
    {
     "name": "stdout",
     "output_type": "stream",
     "text": [
      "   trip_id         starttime          stoptime  bikeid  tripduration  \\\n",
      "0     4118  2013-06-27 12:11  2013-06-27 12:16     480           316   \n",
      "1     4275  2013-06-27 14:44  2013-06-27 14:45      77            64   \n",
      "2     4291  2013-06-27 14:58  2013-06-27 15:05      77           433   \n",
      "3     4316  2013-06-27 15:06  2013-06-27 15:09      77           123   \n",
      "4     4342  2013-06-27 15:13  2013-06-27 15:27      77           852   \n",
      "\n",
      "   from_station_id           from_station_name  to_station_id  \\\n",
      "0               85       Michigan Ave & Oak St             28   \n",
      "1               32  Racine Ave & Congress Pkwy             32   \n",
      "2               32  Racine Ave & Congress Pkwy             19   \n",
      "3               19       Loomis St & Taylor St             19   \n",
      "4               19       Loomis St & Taylor St             55   \n",
      "\n",
      "                    to_station_name  usertype gender  birthday  \n",
      "0        Larrabee St & Menomonee St  Customer    NaN       NaN  \n",
      "1        Racine Ave & Congress Pkwy  Customer    NaN       NaN  \n",
      "2             Loomis St & Taylor St  Customer    NaN       NaN  \n",
      "3             Loomis St & Taylor St  Customer    NaN       NaN  \n",
      "4  Halsted St & James M Rochford St  Customer    NaN       NaN  \n"
     ]
    }
   ],
   "source": [
    "print(df4.head())"
   ]
  },
  {
   "cell_type": "code",
   "execution_count": 11,
   "id": "d69a61e2",
   "metadata": {},
   "outputs": [],
   "source": [
    "combined_df = pd.concat([df3, df4], axis='columns')"
   ]
  },
  {
   "cell_type": "code",
   "execution_count": 12,
   "id": "7e954a84",
   "metadata": {},
   "outputs": [
    {
     "name": "stdout",
     "output_type": "stream",
     "text": [
      "     id                        name   latitude  longitude  dpcapacity  \\\n",
      "0   5.0      State St & Harrison St  41.873958 -87.627739        19.0   \n",
      "1  13.0  Wilton Ave & Diversey Pkwy  41.932500 -87.652681        19.0   \n",
      "2  14.0         Morgan St & 18th St  41.858086 -87.651073        15.0   \n",
      "3  15.0        Racine Ave & 18th St  41.858181 -87.656487        15.0   \n",
      "4  16.0         Wood St & North Ave  41.910329 -87.672516        15.0   \n",
      "\n",
      "   landmark online date  trip_id         starttime          stoptime  bikeid  \\\n",
      "0      30.0   6/28/2013     4118  2013-06-27 12:11  2013-06-27 12:16     480   \n",
      "1      66.0   6/28/2013     4275  2013-06-27 14:44  2013-06-27 14:45      77   \n",
      "2     163.0   6/28/2013     4291  2013-06-27 14:58  2013-06-27 15:05      77   \n",
      "3     164.0   6/28/2013     4316  2013-06-27 15:06  2013-06-27 15:09      77   \n",
      "4     223.0   8/12/2013     4342  2013-06-27 15:13  2013-06-27 15:27      77   \n",
      "\n",
      "   tripduration  from_station_id           from_station_name  to_station_id  \\\n",
      "0           316               85       Michigan Ave & Oak St             28   \n",
      "1            64               32  Racine Ave & Congress Pkwy             32   \n",
      "2           433               32  Racine Ave & Congress Pkwy             19   \n",
      "3           123               19       Loomis St & Taylor St             19   \n",
      "4           852               19       Loomis St & Taylor St             55   \n",
      "\n",
      "                    to_station_name  usertype gender  birthday  \n",
      "0        Larrabee St & Menomonee St  Customer    NaN       NaN  \n",
      "1        Racine Ave & Congress Pkwy  Customer    NaN       NaN  \n",
      "2             Loomis St & Taylor St  Customer    NaN       NaN  \n",
      "3             Loomis St & Taylor St  Customer    NaN       NaN  \n",
      "4  Halsted St & James M Rochford St  Customer    NaN       NaN  \n"
     ]
    }
   ],
   "source": [
    "print(combined_df.head())"
   ]
  },
  {
   "cell_type": "code",
   "execution_count": null,
   "id": "2b59df09",
   "metadata": {},
   "outputs": [],
   "source": [
    "combined_df.to_csv('Combined_2013.csv')"
   ]
  }
 ],
 "metadata": {
  "kernelspec": {
   "display_name": "Python 3.10.5 64-bit",
   "language": "python",
   "name": "python3"
  },
  "language_info": {
   "codemirror_mode": {
    "name": "ipython",
    "version": 3
   },
   "file_extension": ".py",
   "mimetype": "text/x-python",
   "name": "python",
   "nbconvert_exporter": "python",
   "pygments_lexer": "ipython3",
   "version": "3.10.5"
  },
  "vscode": {
   "interpreter": {
    "hash": "aee8b7b246df8f9039afb4144a1f6fd8d2ca17a180786b69acc140d282b71a49"
   }
  }
 },
 "nbformat": 4,
 "nbformat_minor": 5
}
