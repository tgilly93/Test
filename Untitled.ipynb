{
 "cells": [
  {
   "cell_type": "code",
   "execution_count": 1,
   "id": "ef6bb0a7-6b1d-4258-b667-5fbd15f452fc",
   "metadata": {},
   "outputs": [
    {
     "name": "stdout",
     "output_type": "stream",
     "text": [
      "4\n"
     ]
    }
   ],
   "source": [
    "n = 2\n",
    "print(n*2)"
   ]
  },
  {
   "cell_type": "code",
   "execution_count": null,
   "id": "9567a3fd-72ac-40bd-b811-3cf6d68dd41f",
   "metadata": {},
   "outputs": [],
   "source": []
  }
 ],
 "metadata": {
  "kernelspec": {
   "display_name": "Python 3 (ipykernel)",
   "language": "python",
   "name": "python3"
  },
  "language_info": {
   "codemirror_mode": {
    "name": "ipython",
    "version": 3
   },
   "file_extension": ".py",
   "mimetype": "text/x-python",
   "name": "python",
   "nbconvert_exporter": "python",
   "pygments_lexer": "ipython3",
   "version": "3.9.12"
  }
 },
 "nbformat": 4,
 "nbformat_minor": 5
}
