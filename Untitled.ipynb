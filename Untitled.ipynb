{
 "cells": [
  {
   "cell_type": "code",
   "execution_count": 1,
   "id": "ef6bb0a7-6b1d-4258-b667-5fbd15f452fc",
   "metadata": {},
   "outputs": [
    {
     "name": "stdout",
     "output_type": "stream",
     "text": [
      "4\n"
     ]
    }
   ],
   "source": [
    "n = 2\n",
    "print(n*2)"
   ]
  },
  {
   "cell_type": "code",
   "execution_count": 1,
   "id": "9567a3fd-72ac-40bd-b811-3cf6d68dd41f",
   "metadata": {},
   "outputs": [],
   "source": [
    "import pandas as pd\n"
   ]
  },
  {
   "cell_type": "code",
   "execution_count": 2,
   "id": "8ae5fa7d",
   "metadata": {},
   "outputs": [
    {
     "name": "stdout",
     "output_type": "stream",
     "text": [
      "            ride_id rideable_type           started_at             ended_at  \\\n",
      "0  02668AD35674B983   docked_bike  2020-05-27 10:03:52  2020-05-27 10:16:49   \n",
      "1  7A50CCAF1EDDB28F   docked_bike  2020-05-25 10:47:11  2020-05-25 11:05:40   \n",
      "2  2FFCDFDB91FE9A52   docked_bike  2020-05-02 14:11:03  2020-05-02 15:48:21   \n",
      "3  58991CF1DB75BA84   docked_bike  2020-05-02 16:25:36  2020-05-02 16:39:28   \n",
      "4  A79651EFECC268CD   docked_bike  2020-05-29 12:49:54  2020-05-29 13:27:11   \n",
      "\n",
      "           start_station_name  start_station_id  \\\n",
      "0  Franklin St & Jackson Blvd                36   \n",
      "1   Clark St & Wrightwood Ave               340   \n",
      "2  Kedzie Ave & Milwaukee Ave               260   \n",
      "3  Clarendon Ave & Leland Ave               251   \n",
      "4     Hermitage Ave & Polk St               261   \n",
      "\n",
      "                 end_station_name  end_station_id  start_lat  start_lng  \\\n",
      "0          Wabash Ave & Grand Ave           199.0    41.8777   -87.6353   \n",
      "1           Clark St & Leland Ave           326.0    41.9295   -87.6431   \n",
      "2      Kedzie Ave & Milwaukee Ave           260.0    41.9296   -87.7079   \n",
      "3  Lake Shore Dr & Wellington Ave           157.0    41.9680   -87.6500   \n",
      "4         Halsted St & Archer Ave           206.0    41.8715   -87.6699   \n",
      "\n",
      "   end_lat  end_lng member_casual  \n",
      "0  41.8915 -87.6268        member  \n",
      "1  41.9671 -87.6674        casual  \n",
      "2  41.9296 -87.7079        casual  \n",
      "3  41.9367 -87.6368        casual  \n",
      "4  41.8472 -87.6468        member  \n"
     ]
    }
   ],
   "source": [
    "df = pd.read_csv('/Users/terrygilmore/Downloads/202005-divvy-tripdata.csv')\n",
    "print(df.head())"
   ]
  },
  {
   "cell_type": "code",
   "execution_count": 3,
   "id": "1b7f7347",
   "metadata": {},
   "outputs": [
    {
     "ename": "SyntaxError",
     "evalue": "invalid syntax. Perhaps you forgot a comma? (3998699560.py, line 1)",
     "output_type": "error",
     "traceback": [
      "\u001b[0;36m  Input \u001b[0;32mIn [3]\u001b[0;36m\u001b[0m\n\u001b[0;31m    df.to_csv('clean_csv.csv' columns = ['start_station_name', 'member_casual'])\u001b[0m\n\u001b[0m              ^\u001b[0m\n\u001b[0;31mSyntaxError\u001b[0m\u001b[0;31m:\u001b[0m invalid syntax. Perhaps you forgot a comma?\n"
     ]
    }
   ],
   "source": [
    "df.to_csv('clean_csv.csv' columns = ['start_station_name', 'member_casual'])"
   ]
  },
  {
   "cell_type": "code",
   "execution_count": 4,
   "id": "f70e3be5",
   "metadata": {},
   "outputs": [],
   "source": [
    "df.to_csv('clean_csv.csv', columns = ['start_station_name', 'member_casual'])"
   ]
  },
  {
   "cell_type": "code",
   "execution_count": 5,
   "id": "e8d30b24",
   "metadata": {},
   "outputs": [],
   "source": [
    "#added new code to test out vscode enironment. success"
   ]
  },
  {
   "cell_type": "code",
   "execution_count": 6,
   "id": "278a41ba",
   "metadata": {},
   "outputs": [],
   "source": [
    "import matplotlib.pyplot as plt"
   ]
  },
  {
   "cell_type": "code",
   "execution_count": 7,
   "id": "05d0b419",
   "metadata": {},
   "outputs": [
    {
     "ename": "ModuleNotFoundError",
     "evalue": "No module named 'seaborn'",
     "output_type": "error",
     "traceback": [
      "\u001b[0;31m---------------------------------------------------------------------------\u001b[0m",
      "\u001b[0;31mModuleNotFoundError\u001b[0m                       Traceback (most recent call last)",
      "\u001b[1;32m/Users/terrygilmore/Desktop/Test/Untitled.ipynb Cell 8\u001b[0m in \u001b[0;36m<cell line: 1>\u001b[0;34m()\u001b[0m\n\u001b[0;32m----> <a href='vscode-notebook-cell:/Users/terrygilmore/Desktop/Test/Untitled.ipynb#ch0000008?line=0'>1</a>\u001b[0m \u001b[39mimport\u001b[39;00m \u001b[39mseaborn\u001b[39;00m \u001b[39mas\u001b[39;00m \u001b[39msns\u001b[39;00m\n",
      "\u001b[0;31mModuleNotFoundError\u001b[0m: No module named 'seaborn'"
     ]
    }
   ],
   "source": [
    "import seaborn as sns"
   ]
  },
  {
   "cell_type": "code",
   "execution_count": 1,
   "id": "9d1002b7",
   "metadata": {},
   "outputs": [],
   "source": [
    "import seaborn as sns\n"
   ]
  },
  {
   "cell_type": "code",
   "execution_count": null,
   "id": "67db1cda",
   "metadata": {},
   "outputs": [],
   "source": [
    "import numpy as np"
   ]
  }
 ],
 "metadata": {
  "kernelspec": {
   "display_name": "Python 3.10.5 64-bit",
   "language": "python",
   "name": "python3"
  },
  "language_info": {
   "codemirror_mode": {
    "name": "ipython",
    "version": 3
   },
   "file_extension": ".py",
   "mimetype": "text/x-python",
   "name": "python",
   "nbconvert_exporter": "python",
   "pygments_lexer": "ipython3",
   "version": "3.10.5"
  },
  "vscode": {
   "interpreter": {
    "hash": "aee8b7b246df8f9039afb4144a1f6fd8d2ca17a180786b69acc140d282b71a49"
   }
  }
 },
 "nbformat": 4,
 "nbformat_minor": 5
}
